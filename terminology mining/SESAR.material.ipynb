{
 "cells": [
  {
   "cell_type": "code",
   "execution_count": null,
   "id": "ae7e2a45",
   "metadata": {},
   "outputs": [],
   "source": [
    "## SESAR Material vocabulary\n",
    "\n",
    "\n"
   ]
  },
  {
   "cell_type": "code",
   "execution_count": null,
   "id": "81205dc5",
   "metadata": {},
   "outputs": [],
   "source": [
    "import pandas as pd\n",
    "import numpy as np\n",
    "from IPython.core.interactiveshell import InteractiveShell\n",
    "InteractiveShell.ast_node_interactivity = \"all\"\n",
    "\n",
    "pd.options.display.max_rows = 4000"
   ]
  },
  {
   "cell_type": "code",
   "execution_count": null,
   "id": "56e162be",
   "metadata": {},
   "outputs": [],
   "source": [
    "src=\"SESAR\"\n",
    "data = pd.read_csv('../clustering/data/'+src+'.txt',sep='#', keep_default_na=False, encoding='utf-8')\n"
   ]
  },
  {
   "cell_type": "code",
   "execution_count": null,
   "id": "332add75",
   "metadata": {},
   "outputs": [],
   "source": [
    "data[['description_material']] = data[['description_material']].replace(r'^\\s*$', np.nan, regex=True)\n"
   ]
  },
  {
   "cell_type": "code",
   "execution_count": null,
   "id": "b2cdacfe",
   "metadata": {},
   "outputs": [],
   "source": [
    "data.shape[0] #4590410\n",
    "data = data.dropna(subset=['description_material'])\n",
    "data.shape[0] # 995647 /4590410 = 21.68% records contains 'description_material' \n",
    "material_org = data[['description_material']].drop_duplicates()"
   ]
  },
  {
   "cell_type": "code",
   "execution_count": null,
   "id": "83a8bc1c",
   "metadata": {},
   "outputs": [],
   "source": [
    "#search for occurrance in all text\n",
    "for i in material_org.index:\n",
    "    entry = material_org.at[i, 'description_material']\n",
    "    if 'Mafic' in entry:\n",
    "        print(entry)\n",
    "\n",
    "#Mafic has many different broader terms!        "
   ]
  },
  {
   "cell_type": "code",
   "execution_count": null,
   "id": "2b3bded4",
   "metadata": {},
   "outputs": [],
   "source": [
    "material = material_org"
   ]
  },
  {
   "cell_type": "code",
   "execution_count": null,
   "id": "3d4d114d",
   "metadata": {},
   "outputs": [],
   "source": [
    "for i in material.index:\n",
    "    text = material.at[i, 'description_material']\n",
    "    for c in range(0, 4-text.count(\">\")):\n",
    "        text = \">\"+text\n",
    "    material.at[i, 'description_material'] =text\n",
    "\n",
    "material = material.description_material.str.split(pat='>', expand=True)\n"
   ]
  },
  {
   "cell_type": "code",
   "execution_count": null,
   "id": "06ea1011",
   "metadata": {},
   "outputs": [],
   "source": [
    "material\n",
    "\n"
   ]
  },
  {
   "cell_type": "code",
   "execution_count": null,
   "id": "dc911044",
   "metadata": {},
   "outputs": [],
   "source": [
    "np.unique(material[[4]])"
   ]
  },
  {
   "cell_type": "code",
   "execution_count": null,
   "id": "c16e5bcc",
   "metadata": {},
   "outputs": [],
   "source": [
    "##### top level material term used in SESAR:\n",
    "##### matched to iSamples Material CV:https://github.com/isamplesorg/metadata/blob/main/vocabulary/MaterialTypeDecisionTreev3.pdf\n",
    "#'Gas' => 'Gaeous material'\n",
    "#'Ice' => 'Water Ice'\n",
    "#'Mineral' => 'Mineral'\n",
    "#'Organic Material' => 'Organic Material'\n",
    "#'Particulate' => 'Particulate',\n",
    "#'Rock' => 'Rock'\n",
    "#'Soil' => 'Soil'\n",
    "#'Sediment' => 'Sediment'\n",
    "#'aqueous' => 'Liquid water' + 'non-aqueous'\n",
    "#'organic' > 'organic material'\n",
    "\n",
    "#### not matched\n",
    "#'Biology',\n",
    "# 'NotApplicable', , 'Other',\n",
    "# 'Synthetic', 'Tephra',\n",
    " "
   ]
  },
  {
   "cell_type": "code",
   "execution_count": null,
   "id": "79567cc6",
   "metadata": {},
   "outputs": [],
   "source": [
    "material[material[4]=='Biology']  "
   ]
  },
  {
   "cell_type": "code",
   "execution_count": null,
   "id": "37bf5f87",
   "metadata": {},
   "outputs": [],
   "source": [
    "material[material[3]=='Felsic']  #note: Felsic has two different broader terms, Rock, Soil, and NotApplicable?"
   ]
  },
  {
   "cell_type": "code",
   "execution_count": null,
   "id": "d4f7b100",
   "metadata": {},
   "outputs": [],
   "source": [
    "material[material[3]=='Ultramafic']"
   ]
  },
  {
   "cell_type": "code",
   "execution_count": null,
   "id": "e46acd34",
   "metadata": {},
   "outputs": [],
   "source": [
    "material[material[3]=='Intermediate']"
   ]
  },
  {
   "cell_type": "code",
   "execution_count": null,
   "id": "d7d77bc0",
   "metadata": {},
   "outputs": [],
   "source": []
  }
 ],
 "metadata": {
  "kernelspec": {
   "display_name": "Python 3 (ipykernel)",
   "language": "python",
   "name": "python3"
  },
  "language_info": {
   "codemirror_mode": {
    "name": "ipython",
    "version": 3
   },
   "file_extension": ".py",
   "mimetype": "text/x-python",
   "name": "python",
   "nbconvert_exporter": "python",
   "pygments_lexer": "ipython3",
   "version": "3.9.7"
  }
 },
 "nbformat": 4,
 "nbformat_minor": 5
}
