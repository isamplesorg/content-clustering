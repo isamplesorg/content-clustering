{
 "cells": [
  {
   "cell_type": "markdown",
   "metadata": {
    "colab_type": "text",
    "id": "yxNmZb0id0or"
   },
   "source": [
    "# Text Clustering\n",
    "```\n",
    "Author: hong cui\n",
    "Dataset:iSamples\n",
    "```"
   ]
  },
  {
   "cell_type": "code",
   "execution_count": null,
   "metadata": {},
   "outputs": [],
   "source": [
    "from platform import python_version\n",
    "print(python_version()) #3.9.7"
   ]
  },
  {
   "cell_type": "code",
   "execution_count": null,
   "metadata": {},
   "outputs": [],
   "source": [
    "import pandas as pd\n",
    "import numpy as np\n",
    "import re\n",
    "import nltk\n",
    "from nltk.stem.snowball import SnowballStemmer\n",
    "from nltk.corpus import stopwords\n",
    "import fasttext # pip install fasttext-0.9.2-cp310-cp310-win_amd64.whl\n",
    "import matplotlib.pyplot as plt \n",
    "import pickle\n",
    "from joblib import Parallel, delayed\n",
    "from sklearn.cluster import Birch\n",
    "import fastcluster\n",
    "from scipy.cluster.hierarchy import fcluster\n",
    "from sklearn.feature_extraction.text import TfidfVectorizer\n",
    "from sklearn.preprocessing import normalize"
   ]
  },
  {
   "cell_type": "markdown",
   "metadata": {
    "colab_type": "text",
    "id": "-z7FvTHnew62"
   },
   "source": [
    "## Load and preprocess dataset\n"
   ]
  },
  {
   "cell_type": "code",
   "execution_count": null,
   "metadata": {
    "colab": {
     "base_uri": "https://localhost:8080/",
     "height": 71,
     "resources": {
      "http://localhost:8080/nbextensions/google.colab/files.js": {
       "data": "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",
       "headers": [
        [
         "content-type",
         "application/javascript"
        ]
       ],
       "ok": true,
       "status": 200,
       "status_text": ""
      }
     }
    },
    "colab_type": "code",
    "id": "tqDtzFKvOSYt",
    "outputId": "cd06e6b1-c824-44db-aef0-68d439936578"
   },
   "outputs": [],
   "source": [
    "import random \n",
    "#ds = \"GEOME\"\n",
    "#ds = \"OPENCONTEXT\"\n",
    "#ds = \"SMITHSONIAN\"\n",
    "#ds = \"SESAR\"\n",
    "ds = \"All4\"\n",
    "#ds = \"All4Even\"\n",
    "\n",
    "\n",
    "#TODO: index lines with collection name\n",
    "df_content = pd.DataFrame()\n",
    "dslist = [\"GEOME\", \"OPENCONTEXT\", \"SMITHSONIAN\", \"SESAR\"]\n",
    "sample = 50000\n",
    "\n",
    "if ds.startswith(\"All4\") : #combine 4 sets, each set constains the amount of samples\n",
    "    if(ds == \"All4\"): sample=0\n",
    "    for data in dslist:\n",
    "        olines1 = list() #original lines, one sample record is one line\n",
    "        src1 = list()\n",
    "        df_content1 = pd.DataFrame()\n",
    "        with open(data+'.txt', \"r\", encoding='utf-8') as input: \n",
    "            for line in input:\n",
    "                olines1.append(line)\n",
    "                src1.append(data)\n",
    "        \n",
    "        df_content1['src'] = src1\n",
    "        df_content1['content'] = olines1\n",
    "        rowCount = len(olines1)\n",
    "        if sample!=0 and rowCount > sample: \n",
    "            df_content1 = df_content1.sample(sample, random_state=1234)\n",
    "        df_content=df_content.append(df_content1)\n",
    "else:\n",
    "    olines = list() #original lines, one sample record is one line\n",
    "    src = list()\n",
    "    with open(ds+'.txt', \"r\", encoding='utf-8') as input: \n",
    "        for line in input:\n",
    "            olines.append(line)\n",
    "            src.append(ds)\n",
    "    \n",
    "    df_content['src'] = src\n",
    "    df_content['content'] = olines\n",
    "    rowCount = len(olines)\n",
    "    if rowCount>sample: \n",
    "        df_content = df_content.sample(sample, random_state=1234)\n",
    "\n",
    "print(len(df_content))\n",
    "print(df_content[0:7])\n",
    "print(df_content.iloc[0]['content'])"
   ]
  },
  {
   "cell_type": "code",
   "execution_count": null,
   "metadata": {},
   "outputs": [],
   "source": [
    "def removeFieldsContainNum(text):\n",
    "    subed = True\n",
    "    while (subed):\n",
    "        text_s = re.sub(r\"###[^ #]*?\\d[^ #]*?###\",  \"###\", text, 1)\n",
    "        if(text_s == text):\n",
    "            subed = False\n",
    "        else:\n",
    "            text = text_s\n",
    "            \n",
    "    text = re.sub(\"###\", \" \", text)\n",
    "    return text\n"
   ]
  },
  {
   "cell_type": "code",
   "execution_count": null,
   "metadata": {
    "colab": {},
    "colab_type": "code",
    "id": "D7ukIgr80rk1"
   },
   "outputs": [],
   "source": [
    "nltk.download('stopwords')\n",
    "estopwords = stopwords.words('english')\n",
    "stemmer = SnowballStemmer(\"english\")"
   ]
  },
  {
   "cell_type": "code",
   "execution_count": null,
   "metadata": {},
   "outputs": [],
   "source": [
    "#process/clean content\n",
    "\n",
    "def clean(line):\n",
    "    l = removeFieldsContainNum(line) #remove fields that containing one token and the token contains a number (id, codes)\n",
    "    l = l.lower()\n",
    "    l = re.sub(r\"[,|()\\'\\\"]\", \" \", l)\n",
    "    #l = ' '.join([stemmer.stem(item) for item in x.split() if item not in stopwords])) #stemming\n",
    "    l = ' '.join([item for item in l.split() if item not in estopwords and \n",
    "                  not item.startswith(\"https://\") and \n",
    "                  not item.startswith(\"http://\") and\n",
    "                 not re.match(\"\\d.*\", item) and\n",
    "                len(item)>2]) #no stemming #no stemming\n",
    "    l = re.sub(r\"[/]\", \" \", l)\n",
    "    return l\n",
    "                               \n",
    "\n",
    "%time plines = Parallel(n_jobs=6)(delayed(clean)(line) for line in df_content['content'])\n",
    "\n",
    "print(plines[0:3])"
   ]
  },
  {
   "cell_type": "code",
   "execution_count": null,
   "metadata": {},
   "outputs": [],
   "source": [
    "#store plines for reuse\n",
    "\n",
    "#with open(\"plines.\"+ds+\".pkl\", 'wb') as outp:\n",
    "#    pickle.dump(plines, outp, pickle.HIGHEST_PROTOCOL)\n"
   ]
  },
  {
   "cell_type": "markdown",
   "metadata": {},
   "source": [
    "## Form the dataset: use pre-trained word vectors to obtain sentence vector for our corpus \n",
    "wget https://dl.fbaipublicfiles.com/fasttext/vectors-crawl/cc.en.300.bin.gz\n",
    "\n"
   ]
  },
  {
   "cell_type": "code",
   "execution_count": null,
   "metadata": {},
   "outputs": [],
   "source": [
    "%time model = fasttext.load_model('data/cc.en.300.bin') #takes 7GB"
   ]
  },
  {
   "cell_type": "code",
   "execution_count": null,
   "metadata": {
    "colab": {},
    "colab_type": "code",
    "id": "PHqKZaA1W5ED"
   },
   "outputs": [],
   "source": [
    "vlines = list() #records represented as vectors\n",
    "for pline in plines:\n",
    "    vlines.append(model.get_sentence_vector(pline))\n",
    "\n",
    "#normalize to unit vector\n",
    "vlines = normalize(vlines, axis=1)\n",
    "del model #reclaim memory\n",
    "#print(vlines[0])\n",
    "#print(len(vlines)) #2381 for GEOME, 59419 for All4\n",
    "\n"
   ]
  },
  {
   "cell_type": "code",
   "execution_count": null,
   "metadata": {},
   "outputs": [],
   "source": [
    "#store vlines for reuse\n",
    "#with open(\"vlines.\"+ds+\".pkl\", 'wb') as outp:\n",
    "#    pickle.dump(vlines, outp, pickle.HIGHEST_PROTOCOL) "
   ]
  },
  {
   "cell_type": "markdown",
   "metadata": {},
   "source": [
    "## BIRCH clustering: upper level raw clustering "
   ]
  },
  {
   "cell_type": "code",
   "execution_count": null,
   "metadata": {},
   "outputs": [],
   "source": [
    "#read in vlines\n",
    "#with open(\"vlines.\"+ds+\".pkl\", 'rb') as inp:\n",
    "#    vlines = pickle.load(inp)\n"
   ]
  },
  {
   "cell_type": "code",
   "execution_count": null,
   "metadata": {},
   "outputs": [],
   "source": [
    "brc = Birch(branching_factor=50, n_clusters=None, threshold=0.5) \n",
    "#SESAER th=0.35, 8 clusters, one contains 75% of total records (35365 out of 47000)\n",
    "#SESAER th=0.3, 212 clusters, one contains 75% of total records (35365 out of 47000) \n",
    "#SESAER th=0.2, 359 clusters, one contains 75% of total records (35365 out of 47000)\n",
    "#SESAER th=0.1, 2480 clusters, one contains 75% of total records (35365 out of 47000)\n",
    "%time brc.fit(vlines) #build the CF tree #4.5M records takes 1 min wall time\n",
    "#centroids of the raw clusters formed\n",
    "#print(brc.subcluster_centers_) \n",
    "#labels of input data\n",
    "#print(brc.labels_)\n",
    "print(brc.subcluster_labels_)\n",
    "#print(brc.n_features_in_)\n",
    "\n",
    "labels = brc.predict(vlines)\n",
    "\n",
    "#from collections import Counter\n",
    "#Counter(labels)\n",
    "\n",
    "\n"
   ]
  },
  {
   "cell_type": "code",
   "execution_count": null,
   "metadata": {},
   "outputs": [],
   "source": [
    "labels = brc.predict(vlines)\n",
    "df = pd.DataFrame({'src':df_content['src'], 'birchcluster':labels, 'hcluster':-1,'content':plines, 'original':df_content['content']}) \n",
    "df\n",
    "tab = df.groupby(['src', 'birchcluster']).size()\n",
    "with pd.option_context('display.max_rows', None, 'display.max_columns', None):  # more options can be specified also\n",
    "    print(tab.unstack().transpose())\n",
    "    \n",
    "with open(\"clusters.\"+ds+\".pkl\", 'wb') as outp:\n",
    "    pickle.dump(df, outp, pickle.HIGHEST_PROTOCOL)"
   ]
  },
  {
   "cell_type": "markdown",
   "metadata": {},
   "source": [
    "## clustering of subclusters of BIRCH result with parallal programming\n",
    "https://www.machinelearningplus.com/python/parallel-processing-python/# not working!\n",
    "\n",
    "https://github.com/yngvem/parallelising-python \n",
    "\n",
    "also see https://joernhees.de/blog/2015/08/26/scipy-hierarchical-clustering-and-dendrogram-tutorial/\n",
    "\n",
    "https://github.com/mdimura/sparsehc-dm\n",
    "\n",
    "https://pypi.org/project/fastcluster/\n",
    "\n",
    "https://joblib.readthedocs.io/en/latest/generated/joblib.Parallel.html\n"
   ]
  },
  {
   "cell_type": "code",
   "execution_count": null,
   "metadata": {},
   "outputs": [],
   "source": [
    "from fastcluster import linkage_vector\n",
    "from scipy.spatial.distance import pdist\n",
    "from scipy.cluster.hierarchy import dendrogram\n",
    "\n",
    "\n",
    "#birchcluster_df: the input observation data (D=300xN)\n",
    "#birchcluster_number:  cluster number of birchcluster_df in BIRCH result \n",
    "#min_obs: minimal observations in birchcluster_df to run hierarichal clustering, must be >=2\n",
    "\n",
    "def h_clustering_fast(birchcluster_df, birchcluster_number, link_method, min_obs=20 ):\n",
    "    #dist = pdist(birchcluster_df)\n",
    "    if len(birchcluster_df) < min_obs:\n",
    "        return [] \n",
    "    else:\n",
    "        linkage_matrix = fastcluster.linkage_vector(birchcluster_df, link_method) #single, complete, average, weighted, median, centroid, ward\n",
    "        #del dist #dist is modified in linkage_vector\n",
    "    \n",
    "        fig, ax = plt.subplots(figsize=(15, 20)) # set size\n",
    "        ax = dendrogram(linkage_matrix, orientation=\"right\");\n",
    "        plt.tick_params(\\\n",
    "            axis= 'x',          # changes apply to the x-axis\n",
    "            which='both',      # both major and minor ticks are affected\n",
    "            bottom='off',      # ticks along the bottom edge are off\n",
    "            top='off',         # ticks along the top edge are off\n",
    "            labelbottom='off')\n",
    "        plt.ylabel(\"sample index\")\n",
    "        plt.xlabel(\"distance\")\n",
    "        plt.tight_layout() #show plot with tight layout\n",
    "    \n",
    "        plt.savefig('clusters.'+str(birchcluster_number)+'.'+link_method+'.png', dpi=200) #save figure as ward_clusters\n",
    "    \n",
    "        with open('linkage_matrix.'+str(birchcluster_number)+'.'+link_method+\".pkl\", 'wb') as outp:\n",
    "            pickle.dump(linkage_matrix, outp, pickle.HIGHEST_PROTOCOL)\n",
    "            \n",
    "        return linkage_matrix\n",
    "    "
   ]
  },
  {
   "cell_type": "code",
   "execution_count": null,
   "metadata": {},
   "outputs": [],
   "source": [
    "#birchcluster_df: df holding the birchcluster observation content\n",
    "#birchcluster_number:  cluster number of birchcluster_df in BIRCH result \n",
    "#linkage_matrix: the linkage_matrix for the birchcluster\n",
    "#max_d: distance threshold to obtain clusters from hierarchical clustering\n",
    "#top_n: top n terms to return\n",
    "\n",
    "def collect_terms(df, birchcluster_df, birchcluster_number, linkage_matrix, max_d=0.7, top_n=10):\n",
    "    print(birchcluster_number)\n",
    "    if np.any(linkage_matrix):\n",
    "        #obtain clusters from hierarchial clustering\n",
    "        clusters = fcluster(linkage_matrix, max_d, criterion='distance')\n",
    "        #criterion: https://docs.scipy.org/doc/scipy/reference/generated/scipy.cluster.hierarchy.fcluster.html\n",
    "        df.loc[df['birchcluster']==birchcluster_number, 'hcluster'] = clusters\n",
    "        num_clusters = len(np.unique(clusters))\n",
    "        print(\"# of clusters:\" + str(num_clusters))\n",
    "        \n",
    "        #index lines with clusters\n",
    "        records = {'description':df[df['birchcluster']==birchcluster_number].content, 'cluster':clusters, 'birchcluster':birchcluster_number}\n",
    "        frame = pd.DataFrame(records, columns=['description', 'cluster', 'birchcluster'])\n",
    "        cframe = frame.groupby('cluster').description.apply(' '.join).reset_index(name='concat_descriptions')\n",
    "\n",
    "        #compute tfidf matrix for the clusters, one row for a cluster\n",
    "        #to verify most informative terms are selected, set max_features to a small number like 6 and top n to 3.\n",
    "        tfidf_vectorizer = TfidfVectorizer(max_df = 0.8, max_features=200, min_df=0.2, stop_words='english',\n",
    "                                  use_idf=True)\n",
    "\n",
    "        try:\n",
    "            tfidf_matrix = tfidf_vectorizer.fit_transform(cframe['concat_descriptions'])\n",
    "            terms = tfidf_vectorizer.get_feature_names()\n",
    "            ordered_index = tfidf_matrix.toarray().argsort()[:, ::-1]\n",
    "         \n",
    "            top_n = min(len(ordered_index), top_n)\n",
    "            #print(\"top_n:\"+str(top_n))\n",
    "            #print(\"length of ordered index:\"+str(len(ordered_index)))\n",
    "            #print(\"# of clusters:\"+str(num_clusters))\n",
    "            allterms = []\n",
    "            for i in range(0, num_clusters):\n",
    "                n_terms = []\n",
    "                for ind in ordered_index[i, :top_n]:\n",
    "                    n_terms.append(terms[ind])\n",
    "                allterms.append(n_terms)\n",
    "            return allterms\n",
    "        \n",
    "        except ValueError:#no term obtained from tfidf when all records holds the same set of terms\n",
    "            return []\n",
    "        \n",
    "        \n",
    "    else:\n",
    "        return []\n",
    "    \n",
    "#allterms = collect_terms(df[df['birchcluster']==4], 4, linkage_matrix=results[4], max_d=0.5, top_n=10)\n",
    "#for i in range(0, len(allterms)):\n",
    "#    print(allterms[i])\n",
    "            \n",
    "            \n"
   ]
  },
  {
   "cell_type": "code",
   "execution_count": null,
   "metadata": {},
   "outputs": [],
   "source": [
    "#print(len(vlines[df.index[df['cluster']==0]]))\n",
    "\n",
    "#%time h_clustering(vlines[df.index[df['cluster']==0]], 0, 'ward') \n",
    "#35K 3min without plotting and dumping, 9GB RAM\n",
    "# 5min 51s with plotting and dumping\n",
    "\n",
    "#%time h_clustering_fast(vlines[df.index[df['cluster']==0]], 0, 'ward') \n",
    "#linkage:\n",
    "#35K 2min 39s without plotting and dumping 9GB RAM\n",
    "#5min 19s mins with plotting and dumping\n",
    "#linkage_vector:\n",
    "#35K  8min 8s without plotting and dumping 0GB RAM\n",
    "#11min 1s with plotting and dumping 0.6GB RAM"
   ]
  },
  {
   "cell_type": "code",
   "execution_count": null,
   "metadata": {},
   "outputs": [],
   "source": [
    "#results = []\n",
    "#terms = []\n",
    "#without plot\n",
    "#n_jobs = 1: 7min 10s\n",
    "#n_jobs = 4: 6min 50s, all subclusters ends in 1 min, subcluster 17 takes 6min 50s\n",
    "\n",
    "#with plot\n",
    "#n_jobs = 4: 10min 13s, all subclusters ends in 1 min, subcluster 17 takes 10min 13s\n",
    "\n",
    "%time results = Parallel(n_jobs=4, verbose=50)(delayed(h_clustering_fast)(vlines[df.index[df['birchcluster']==c]], c, 'ward', 20)  for c in range(0, len(df.birchcluster.unique())-1))\n",
    "len(results)\n",
    "results[0]\n",
    "\n",
    "#import pickle\n",
    "#with open(\"results.\"+ds+\".pkl\", 'wb') as outp:\n",
    "#    pickle.dump(results, outp, pickle.HIGHEST_PROTOCOL)\n",
    "\n",
    "%time terms = Parallel(n_jobs=1, verbose=50)(delayed(collect_terms)(df, df[df['birchcluster']==c], c, linkage_matrix=results[c], max_d=0.5, top_n=10) for c in range(0, len(df.birchcluster.unique())-1))\n",
    "df.head()\n"
   ]
  },
  {
   "cell_type": "code",
   "execution_count": null,
   "metadata": {},
   "outputs": [],
   "source": [
    "#verify results\n",
    "df[df['birchcluster']==70].groupby('hcluster').size()\n",
    "terms[56]"
   ]
  },
  {
   "cell_type": "code",
   "execution_count": null,
   "metadata": {},
   "outputs": [],
   "source": []
  }
 ],
 "metadata": {
  "colab": {
   "collapsed_sections": [
    "NmNko-A-HQhj",
    "XxvZLC9wHFSz"
   ],
   "name": "Medium#1_Clustering.ipynb",
   "provenance": [],
   "toc_visible": true
  },
  "kernelspec": {
   "display_name": "Python 3 (ipykernel)",
   "language": "python",
   "name": "python3"
  },
  "language_info": {
   "codemirror_mode": {
    "name": "ipython",
    "version": 3
   },
   "file_extension": ".py",
   "mimetype": "text/x-python",
   "name": "python",
   "nbconvert_exporter": "python",
   "pygments_lexer": "ipython3",
   "version": "3.9.7"
  }
 },
 "nbformat": 4,
 "nbformat_minor": 4
}
